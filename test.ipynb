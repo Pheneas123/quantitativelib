{
 "cells": [
  {
   "cell_type": "code",
   "execution_count": 1,
   "id": "47115d4c",
   "metadata": {},
   "outputs": [],
   "source": [
    "from quantitativelib import black_scholes"
   ]
  },
  {
   "cell_type": "code",
   "execution_count": 2,
   "id": "07943322",
   "metadata": {},
   "outputs": [
    {
     "name": "stdout",
     "output_type": "stream",
     "text": [
      "          Call      Put\n",
      "Price   8.6629  15.0415\n",
      "Delta   0.4435  -0.5367\n",
      "Gamma   0.0134   0.0134\n",
      "Vega   56.2977  56.2977\n",
      "Rho    55.6414 -92.8661\n",
      "Theta  -4.9001  -6.2576\n"
     ]
    }
   ],
   "source": [
    "# Example usage of the `black_scholes` function\n",
    "option_prices = black_scholes(\n",
    "    option_type=['call', 'put'],\n",
    "    K=150,\n",
    "    S=145,\n",
    "    T=1,\n",
    "    r=0.01,  \n",
    "    q=0.02,  \n",
    "    sigma=0.2,  \n",
    "    precision=4,\n",
    "    show_table=True\n",
    ")"
   ]
  }
 ],
 "metadata": {
  "kernelspec": {
   "display_name": ".venv",
   "language": "python",
   "name": "python3"
  },
  "language_info": {
   "codemirror_mode": {
    "name": "ipython",
    "version": 3
   },
   "file_extension": ".py",
   "mimetype": "text/x-python",
   "name": "python",
   "nbconvert_exporter": "python",
   "pygments_lexer": "ipython3",
   "version": "3.12.10"
  }
 },
 "nbformat": 4,
 "nbformat_minor": 5
}
